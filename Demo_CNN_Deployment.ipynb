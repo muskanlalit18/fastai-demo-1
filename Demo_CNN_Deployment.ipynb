{
 "cells": [
  {
   "cell_type": "code",
   "execution_count": 7,
   "metadata": {
    "collapsed": true
   },
   "outputs": [
    {
     "name": "stdout",
     "output_type": "stream",
     "text": [
      "Collecting voila\n",
      "  Downloading voila-0.2.4-py3-none-any.whl (1.9 MB)\n",
      "\u001b[K     |████████████████████████████████| 1.9 MB 19.4 MB/s eta 0:00:01\n",
      "\u001b[?25hCollecting nbconvert<7,>=6.0.0\n",
      "  Downloading nbconvert-6.0.7-py3-none-any.whl (552 kB)\n",
      "\u001b[K     |████████████████████████████████| 552 kB 54.0 MB/s eta 0:00:01\n",
      "\u001b[?25hRequirement already satisfied: jupyter-client<7,>=6.1.3 in /opt/conda/envs/fastai/lib/python3.8/site-packages (from voila) (6.1.7)\n",
      "Collecting jupyter-server<2.0.0,>=0.3.0\n",
      "  Downloading jupyter_server-1.0.9-py3-none-any.whl (179 kB)\n",
      "\u001b[K     |████████████████████████████████| 179 kB 48.6 MB/s eta 0:00:01\n",
      "\u001b[?25hRequirement already satisfied: nbclient<0.6,>=0.4.0 in /opt/conda/envs/fastai/lib/python3.8/site-packages (from voila) (0.5.1)\n",
      "Requirement already satisfied: nbformat>=4.4 in /opt/conda/envs/fastai/lib/python3.8/site-packages (from nbconvert<7,>=6.0.0->voila) (5.0.8)\n",
      "Requirement already satisfied: mistune<2,>=0.8.1 in /opt/conda/envs/fastai/lib/python3.8/site-packages (from nbconvert<7,>=6.0.0->voila) (0.8.4)\n",
      "Requirement already satisfied: bleach in /opt/conda/envs/fastai/lib/python3.8/site-packages (from nbconvert<7,>=6.0.0->voila) (3.2.1)\n",
      "Requirement already satisfied: traitlets>=4.2 in /opt/conda/envs/fastai/lib/python3.8/site-packages (from nbconvert<7,>=6.0.0->voila) (5.0.5)\n",
      "Requirement already satisfied: jupyter-core in /opt/conda/envs/fastai/lib/python3.8/site-packages (from nbconvert<7,>=6.0.0->voila) (4.7.0)\n",
      "Requirement already satisfied: pandocfilters>=1.4.1 in /opt/conda/envs/fastai/lib/python3.8/site-packages (from nbconvert<7,>=6.0.0->voila) (1.4.2)\n",
      "Requirement already satisfied: testpath in /opt/conda/envs/fastai/lib/python3.8/site-packages (from nbconvert<7,>=6.0.0->voila) (0.4.4)\n",
      "Requirement already satisfied: entrypoints>=0.2.2 in /opt/conda/envs/fastai/lib/python3.8/site-packages (from nbconvert<7,>=6.0.0->voila) (0.3)\n",
      "Requirement already satisfied: jinja2>=2.4 in /opt/conda/envs/fastai/lib/python3.8/site-packages (from nbconvert<7,>=6.0.0->voila) (2.11.2)\n",
      "Requirement already satisfied: defusedxml in /opt/conda/envs/fastai/lib/python3.8/site-packages (from nbconvert<7,>=6.0.0->voila) (0.6.0)\n",
      "Requirement already satisfied: jupyterlab-pygments in /opt/conda/envs/fastai/lib/python3.8/site-packages (from nbconvert<7,>=6.0.0->voila) (0.1.2)\n",
      "Requirement already satisfied: pygments>=2.4.1 in /opt/conda/envs/fastai/lib/python3.8/site-packages (from nbconvert<7,>=6.0.0->voila) (2.7.2)\n",
      "Requirement already satisfied: python-dateutil>=2.1 in /opt/conda/envs/fastai/lib/python3.8/site-packages (from jupyter-client<7,>=6.1.3->voila) (2.8.1)\n",
      "Requirement already satisfied: pyzmq>=13 in /opt/conda/envs/fastai/lib/python3.8/site-packages (from jupyter-client<7,>=6.1.3->voila) (20.0.0)\n",
      "Requirement already satisfied: tornado>=4.1 in /opt/conda/envs/fastai/lib/python3.8/site-packages (from jupyter-client<7,>=6.1.3->voila) (6.1)\n",
      "Requirement already satisfied: prometheus-client in /opt/conda/envs/fastai/lib/python3.8/site-packages (from jupyter-server<2.0.0,>=0.3.0->voila) (0.9.0)\n",
      "Requirement already satisfied: Send2Trash in /opt/conda/envs/fastai/lib/python3.8/site-packages (from jupyter-server<2.0.0,>=0.3.0->voila) (1.5.0)\n",
      "Requirement already satisfied: terminado>=0.8.3 in /opt/conda/envs/fastai/lib/python3.8/site-packages (from jupyter-server<2.0.0,>=0.3.0->voila) (0.9.1)\n",
      "Requirement already satisfied: ipython-genutils in /opt/conda/envs/fastai/lib/python3.8/site-packages (from jupyter-server<2.0.0,>=0.3.0->voila) (0.2.0)\n",
      "Requirement already satisfied: async-generator in /opt/conda/envs/fastai/lib/python3.8/site-packages (from nbclient<0.6,>=0.4.0->voila) (1.10)\n",
      "Requirement already satisfied: nest-asyncio in /opt/conda/envs/fastai/lib/python3.8/site-packages (from nbclient<0.6,>=0.4.0->voila) (1.4.3)\n",
      "Requirement already satisfied: jsonschema!=2.5.0,>=2.4 in /opt/conda/envs/fastai/lib/python3.8/site-packages (from nbformat>=4.4->nbconvert<7,>=6.0.0->voila) (3.2.0)\n",
      "Requirement already satisfied: packaging in /opt/conda/envs/fastai/lib/python3.8/site-packages (from bleach->nbconvert<7,>=6.0.0->voila) (20.4)\n",
      "Requirement already satisfied: six>=1.9.0 in /opt/conda/envs/fastai/lib/python3.8/site-packages (from bleach->nbconvert<7,>=6.0.0->voila) (1.15.0)\n",
      "Requirement already satisfied: webencodings in /opt/conda/envs/fastai/lib/python3.8/site-packages (from bleach->nbconvert<7,>=6.0.0->voila) (0.5.1)\n",
      "Requirement already satisfied: MarkupSafe>=0.23 in /opt/conda/envs/fastai/lib/python3.8/site-packages (from jinja2>=2.4->nbconvert<7,>=6.0.0->voila) (1.1.1)\n",
      "Requirement already satisfied: ptyprocess; os_name != \"nt\" in /opt/conda/envs/fastai/lib/python3.8/site-packages (from terminado>=0.8.3->jupyter-server<2.0.0,>=0.3.0->voila) (0.6.0)\n",
      "Requirement already satisfied: pyrsistent>=0.14.0 in /opt/conda/envs/fastai/lib/python3.8/site-packages (from jsonschema!=2.5.0,>=2.4->nbformat>=4.4->nbconvert<7,>=6.0.0->voila) (0.17.3)\n",
      "Requirement already satisfied: setuptools in /opt/conda/envs/fastai/lib/python3.8/site-packages (from jsonschema!=2.5.0,>=2.4->nbformat>=4.4->nbconvert<7,>=6.0.0->voila) (49.6.0.post20201009)\n",
      "Requirement already satisfied: attrs>=17.4.0 in /opt/conda/envs/fastai/lib/python3.8/site-packages (from jsonschema!=2.5.0,>=2.4->nbformat>=4.4->nbconvert<7,>=6.0.0->voila) (20.3.0)\n",
      "Requirement already satisfied: pyparsing>=2.0.2 in /opt/conda/envs/fastai/lib/python3.8/site-packages (from packaging->bleach->nbconvert<7,>=6.0.0->voila) (2.4.7)\n",
      "Installing collected packages: nbconvert, jupyter-server, voila\n",
      "  Attempting uninstall: nbconvert\n",
      "    Found existing installation: nbconvert 5.6.1\n",
      "    Uninstalling nbconvert-5.6.1:\n",
      "      Successfully uninstalled nbconvert-5.6.1\n",
      "\u001b[31mERROR: After October 2020 you may experience errors when installing or updating packages. This is because pip will change the way that it resolves dependency conflicts.\n",
      "\n",
      "We recommend you use --use-feature=2020-resolver to test your packages with the new resolver before it becomes the default.\n",
      "\n",
      "nbdev 1.1.5 requires nbconvert<6, but you'll have nbconvert 6.0.7 which is incompatible.\u001b[0m\n",
      "Successfully installed jupyter-server-1.0.9 nbconvert-6.0.7 voila-0.2.4\n",
      "Enabling: voila\n",
      "- Writing config: /root/.jupyter\n",
      "    - Validating...\n",
      "      voila 0.2.4 \u001b[32mOK\u001b[0m\n",
      "Enabling: —sys-prefix\n",
      "- Writing config: /root/.jupyter\n",
      "    - Validating...\n",
      "Error loading server extension —sys-prefix\n",
      "     \u001b[31m X\u001b[0m is —sys-prefix importable?\n"
     ]
    }
   ],
   "source": [
    "!pip install voila\n",
    "!jupyter serverextension enable voila —sys-prefix"
   ]
  },
  {
   "cell_type": "code",
   "execution_count": 1,
   "metadata": {},
   "outputs": [],
   "source": [
    "from fastai.vision.all import *\n",
    "from fastai.vision.widgets import *"
   ]
  },
  {
   "cell_type": "code",
   "execution_count": 2,
   "metadata": {},
   "outputs": [],
   "source": [
    "path = Path()\n",
    "learn_inf = load_learner(path/'export.pkl', cpu=True)"
   ]
  },
  {
   "cell_type": "code",
   "execution_count": 3,
   "metadata": {},
   "outputs": [],
   "source": [
    "btn_upload = widgets.FileUpload()\n",
    "btn_classify = widgets.Button(description='Classify')\n",
    "out_pl = widgets.Output()\n",
    "lbl_pred = widgets.Label()"
   ]
  },
  {
   "cell_type": "code",
   "execution_count": 5,
   "metadata": {},
   "outputs": [],
   "source": [
    "def on_click_classify(change):\n",
    "    img = PILImage.create(btn_upload.data[-1])\n",
    "    out_pl.clear_output()\n",
    "    with out_pl: display(img.to_thumb(128,128))\n",
    "    pred,pred_idx,probs = learn_inf.predict(img)\n",
    "    lbl_pred.value = f'Prediction: {pred}; Probability: {probs[pred_idx]:.04f}'\n",
    "\n",
    "btn_classify.on_click(on_click_classify)"
   ]
  },
  {
   "cell_type": "code",
   "execution_count": 6,
   "metadata": {},
   "outputs": [
    {
     "data": {
      "application/vnd.jupyter.widget-view+json": {
       "model_id": "5566b3d8695e438d9ca68dae17a29e89",
       "version_major": 2,
       "version_minor": 0
      },
      "text/plain": [
       "VBox(children=(Label(value='Select your Image!'), FileUpload(value={}, description='Upload'), Button(descripti…"
      ]
     },
     "metadata": {},
     "output_type": "display_data"
    },
    {
     "data": {
      "text/html": [],
      "text/plain": [
       "<IPython.core.display.HTML object>"
      ]
     },
     "metadata": {},
     "output_type": "display_data"
    }
   ],
   "source": [
    "VBox([widgets.Label('Select your Image!'), \n",
    "      btn_upload, btn_classify, out_pl, lbl_pred])"
   ]
  },
  {
   "cell_type": "code",
   "execution_count": null,
   "metadata": {},
   "outputs": [],
   "source": []
  }
 ],
 "metadata": {
  "kernelspec": {
   "display_name": "Python 3",
   "language": "python",
   "name": "python3"
  },
  "language_info": {
   "codemirror_mode": {
    "name": "ipython",
    "version": 3
   },
   "file_extension": ".py",
   "mimetype": "text/x-python",
   "name": "python",
   "nbconvert_exporter": "python",
   "pygments_lexer": "ipython3",
   "version": "3.8.6"
  }
 },
 "nbformat": 4,
 "nbformat_minor": 4
}
